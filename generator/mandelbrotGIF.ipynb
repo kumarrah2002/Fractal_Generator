{
  "cells": [
    {
      "cell_type": "markdown",
      "metadata": {
        "id": "view-in-github",
        "colab_type": "text"
      },
      "source": [
        "<a href=\"https://colab.research.google.com/github/kumarrah2002/Fractal_Generator_GPU/blob/main/generator/mandelbrotGIF.ipynb\" target=\"_parent\"><img src=\"https://colab.research.google.com/assets/colab-badge.svg\" alt=\"Open In Colab\"/></a>"
      ]
    },
    {
      "cell_type": "markdown",
      "source": [
        "\n",
        "\n",
        "## **Import Dependencies**"
      ],
      "metadata": {
        "id": "AXg4RXqsh7KD"
      }
    },
    {
      "cell_type": "code",
      "execution_count": 8,
      "metadata": {
        "id": "f5nqTy5mpa_h"
      },
      "outputs": [],
      "source": [
        "from matplotlib import pyplot as plt\n",
        "import numpy as np\n",
        "from timeit import default_timer as timer\n",
        "import os\n",
        "import imageio"
      ]
    },
    {
      "cell_type": "markdown",
      "source": [
        "\n",
        "\n",
        "## **Now, we will create a Mandelbrot Fractal GIF!**"
      ],
      "metadata": {
        "id": "z7hebgOLeoI7"
      }
    },
    {
      "cell_type": "code",
      "source": [
        "class mandelbrot:\n",
        "  def __init__(self, cmap):\n",
        "    self.cmap = cmap\n",
        "\n",
        "  '''\n",
        "  Args:\n",
        "    cmap (str): color map of Mandelbrot Fractal\n",
        "  '''\n",
        "\n",
        "  def f(self, z, c):\n",
        "    return z**(self.k) + c\n",
        "\n",
        "  '''\n",
        "  ------------------------------------------------------------------------------\n",
        "  Args:\n",
        "    z (float): critical point in complex plane\n",
        "    c (float): complex number to change z\n",
        "  ------------------------------------------------------------------------------\n",
        "  '''\n",
        "\n",
        "  def diverge(self, c, z = 0, iterations = 20):\n",
        "    c = complex(*c)\n",
        "    z = 0\n",
        "    for i in range(iterations):\n",
        "      if(z.real*z.real + z.imag*z.imag) >= 4:\n",
        "        return i\n",
        "      z = self.f(z, c)\n",
        "    return 0\n",
        "\n",
        "  '''\n",
        "  ------------------------------------------------------------------------------\n",
        "  Args:\n",
        "    z (float): critical point in complex plane\n",
        "    c (float): complex number\n",
        "    iterations (int): Number of repetitions \n",
        "  ------------------------------------------------------------------------------\n",
        "  '''\n",
        "\n",
        "  def plot(self, k, complex_plane):\n",
        "    self.k = k\n",
        "    xmin, xmax, ymin, ymax = complex_plane\n",
        "    resolution = 200 #200 points between minimum and maximum\n",
        "\n",
        "    xx, yy = np.meshgrid(np.linspace(xmin, xmax, resolution), \n",
        "                        np.linspace(ymin, ymax, resolution))\n",
        "    points = np.c_[xx.ravel(), yy.ravel()]\n",
        "    mandelbrot_points = [self.diverge(c) for c in points]\n",
        "    mandelbrot_points = np.array(mandelbrot_points).reshape(200, 200)\n",
        "    plt.contourf(mandelbrot_points, cmap = self.cmap)\n",
        "\n",
        "  '''\n",
        "  ------------------------------------------------------------------------------\n",
        "  Args:\n",
        "    k (float): power of z --> used to create varying fractal shapes\n",
        "    complex_plane (tuple): starting and ending values on the complex plane\n",
        "      format: (xmin, xmax, ymin, ymax)\n",
        "  ------------------------------------------------------------------------------\n",
        "  '''\n",
        "\n",
        "  def gif(self, lower, upper, iterations, complex_plane = (-2, 1, -1, 1)):\n",
        "    if (lower >= 2):\n",
        "      os.mkdir(\"mandelbrot_plots\")\n",
        "      series = np.linspace(lower, upper, iterations)\n",
        "      for n in series:\n",
        "        self.plot(n, complex_plane)\n",
        "        plt.savefig(f\"mandelbrot_plots/mandelbrot_{n}.jpg\")\n",
        "    \n",
        "      gif = [] \n",
        "      files = [f\"mandelbrot_plots/mandelbrot_{n}.jpg\" for n in series]\n",
        "      for image in files:\n",
        "        gif.append(imageio.imread(image))\n",
        "      imageio.mimsave('mandelbrot.gif', gif)\n",
        "    \n",
        "    else:\n",
        "      print(\"Input a higher lower boundary\")\n",
        "\n",
        "  '''\n",
        "  ------------------------------------------------------------------------------\n",
        "  Args:\n",
        "    lower (float): lowest value of k for the equation z**k + c\n",
        "    upper (float): highest value of k for the equation z**k + c\n",
        "    iterations (int): Number of repetitions \n",
        "  ------------------------------------------------------------------------------\n",
        "  '''"
      ],
      "metadata": {
        "id": "sh_a4TbUTQOt"
      },
      "execution_count": 18,
      "outputs": []
    },
    {
      "cell_type": "code",
      "source": [
        "coordinates = (-2, 1, -1, 1)\n",
        "\n",
        "start = timer()\n",
        "\n",
        "mandelbrot_set = mandelbrot(\"inferno\")\n",
        "mandelbrot_set.plot(k = 2, complex_plane = coordinates)\n",
        "end = timer() - start\n",
        "print(\"Mandelbrot created in %f sec.\" % end)"
      ],
      "metadata": {
        "colab": {
          "base_uri": "https://localhost:8080/",
          "height": 282
        },
        "id": "CDD-_krhTsty",
        "outputId": "d3a3b9ec-f955-4449-fee7-e70781b9e99a"
      },
      "execution_count": 31,
      "outputs": [
        {
          "output_type": "stream",
          "name": "stdout",
          "text": [
            "Mandelbrot created in 0.214866 sec.\n"
          ]
        },
        {
          "output_type": "display_data",
          "data": {
            "text/plain": [
              "<Figure size 432x288 with 1 Axes>"
            ],
            "image/png": "[encoded data removed]"
          },
          "metadata": {
            "needs_background": "light"
          }
        }
      ]
    },
    {
      "cell_type": "markdown",
      "source": [
        "**You can choose whatever shader you want for the fractal!**\n",
        "\n",
        "All the colormaps can be found using this link: https://matplotlib.org/stable/tutorials/colors/colormaps.html\n",
        "\n",
        "**To change the color, simply replace the string inside the mandelbrot() object to any of the available choices**"
      ],
      "metadata": {
        "id": "b3qS9nRZhKqO"
      }
    },
    {
      "cell_type": "code",
      "source": [
        "lower = 2\n",
        "upper = 12\n",
        "max_iter = 100\n",
        "\n",
        "start = timer()\n",
        "\n",
        "mandelbrot_set.gif(lower, upper, max_iter)\n",
        "\n",
        "end = timer() - start\n",
        "print(\"Mandelbrot GIF created in %f sec.\" % end)\n"
      ],
      "metadata": {
        "colab": {
          "base_uri": "https://localhost:8080/",
          "height": 282
        },
        "id": "PxWX721iVv8-",
        "outputId": "79afe43a-3c64-44da-f1e6-c96691408c75"
      },
      "execution_count": 35,
      "outputs": [
        {
          "output_type": "stream",
          "name": "stdout",
          "text": [
            "Mandelbrot GIF created in 127.837059 sec.\n"
          ]
        },
        {
          "output_type": "display_data",
          "data": {
            "text/plain": [
              "<Figure size 432x288 with 1 Axes>"
            ],
            "image/png": "[encoded data removed]"
          },
          "metadata": {
            "needs_background": "light"
          }
        }
      ]
    },
    {
      "cell_type": "code",
      "source": [
        "import shutil\n",
        "\n",
        "if (os.path.exists(\"/content/mandelbrot_plots\") == True):\n",
        "  shutil.rmtree(\"/content/mandelbrot_plots\")\n",
        "elif (os.path.exists(\"/content/mandelbrot.gif\") == True):\n",
        "  os.remove(\"mandelbrot.gif\")\n",
        "\n",
        "\n",
        "# To remove the mandelbrot fractal images and create another GIF, uncomment and run the code above"
      ],
      "metadata": {
        "id": "iVv_ub1D9NTI"
      },
      "execution_count": 34,
      "outputs": []
    },
    {
      "cell_type": "markdown",
      "source": [
        "**Open mandelbrot.gif in your current directory and look at your stunning Mandelbrot Fractal GIF!**"
      ],
      "metadata": {
        "id": "PTj1rBRBhaoE"
      }
    }
  ],
  "metadata": {
    "colab": {
      "provenance": [],
      "authorship_tag": "ABX9TyN6GqKEE2rPGzonrHxz/PMS",
      "include_colab_link": true
    },
    "gpuClass": "standard",
    "kernelspec": {
      "display_name": "Python 3",
      "name": "python3"
    },
    "language_info": {
      "name": "python"
    }
  },
  "nbformat": 4,
  "nbformat_minor": 0
}