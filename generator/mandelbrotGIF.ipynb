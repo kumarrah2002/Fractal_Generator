{
  "cells": [
    {
      "cell_type": "markdown",
      "source": [
        "\n",
        "\n",
        "## **Import Dependencies**"
      ],
      "metadata": {
        "id": "AXg4RXqsh7KD"
      }
    },
    {
      "cell_type": "code",
      "execution_count": 1,
      "metadata": {
        "id": "f5nqTy5mpa_h"
      },
      "outputs": [],
      "source": [
        "# import cupy as cp \n",
        "from matplotlib import pyplot as plt\n",
        "import numpy as np\n",
        "from timeit import default_timer as timer\n"
      ]
    },
    {
      "cell_type": "markdown",
      "source": [
        "\n",
        "\n",
        "## **Now, we will create a Mandelbrot Fractal GIF!**"
      ],
      "metadata": {
        "id": "z7hebgOLeoI7"
      }
    },
    {
      "cell_type": "code",
      "source": [
        "def plot_mandelbrot(k, cmap):\n",
        "  def f(z, c, k):\n",
        "    return z**k + c\n",
        "\n",
        "  def diverge(c, z = 0, iterations = 20, boundary = 20000):\n",
        "    c = complex(*c)\n",
        "    for i in range(iterations):\n",
        "      z = f(z, c, k)\n",
        "      if abs(z) > boundary:\n",
        "        return 1 #diverges\n",
        "    return 0\n",
        "  \n",
        "  resolution = 200 #200 points between minimum and maximum\n",
        "  xmin, xmax = -2, 1\n",
        "  ymin, ymax = -1, 1\n",
        "\n",
        "  xx, yy = np.meshgrid(np.linspace(xmin, xmax, resolution), \n",
        "                      np.linspace(ymin, ymax, resolution))\n",
        "\n",
        "  points = np.c_[xx.ravel(), yy.ravel()]\n",
        "  mandelbrot = [diverge(c) for c in points]\n",
        "  mandelbrot = np.array(mandelbrot).reshape(200, 200)\n",
        "  plt.contourf(mandelbrot, cmap = cmap)"
      ],
      "metadata": {
        "id": "sh_a4TbUTQOt"
      },
      "execution_count": 9,
      "outputs": []
    },
    {
      "cell_type": "code",
      "source": [
        "start = timer()\n",
        "\n",
        "plot_mandelbrot(2, \"magma\")\n",
        "\n",
        "end = timer() - start\n",
        "print(\"Mandelbrot created in %f sec.\" % end)"
      ],
      "metadata": {
        "colab": {
          "base_uri": "https://localhost:8080/",
          "height": 282
        },
        "id": "CDD-_krhTsty",
        "outputId": "9c656fc4-d42a-4644-f576-30f0a4bd32c8"
      },
      "execution_count": 8,
      "outputs": [
        {
          "output_type": "stream",
          "name": "stdout",
          "text": [
            "Mandelbrot created in 0.228066 sec.\n"
          ]
        },
        {
          "output_type": "display_data",
          "data": {
            "text/plain": [
              "<Figure size 432x288 with 1 Axes>"
            ],
            "image/png": "[encoded data removed]"
          },
          "metadata": {
            "needs_background": "light"
          }
        }
      ]
    },
    {
      "cell_type": "markdown",
      "source": [
        "**You can choose whatever shader you want for the fractal!**\n",
        "\n",
        "\n",
        "All the colormaps can be found using this link: https://matplotlib.org/stable/tutorials/colors/colormaps.html"
      ],
      "metadata": {
        "id": "b3qS9nRZhKqO"
      }
    },
    {
      "cell_type": "code",
      "source": [
        "!mkdir mandelbrot_plots\n",
        "import imageio\n",
        "\n",
        "series = np.linspace(2, 12, 100)\n",
        "start = timer()\n",
        "for n in series:\n",
        "  plot_mandelbrot(n, cmap = \"gist_heat\")\n",
        "  plt.savefig(f\"mandelbrot_plots/mandelbrot_{n}.jpg\")\n",
        "\n",
        "\n",
        "end = timer() - start\n",
        "print(\"Mandelbrot GIF created in %f sec.\" % end)\n",
        "\n",
        "gif = [] \n",
        "# get the path/directory\n",
        "\n",
        "files = [f\"mandelbrot_plots/mandelbrot_{n}.jpg\" for n in series]\n",
        "\n",
        "for image in files:\n",
        "  gif.append(imageio.imread(image))\n",
        "imageio.mimsave('mandelbrot.gif', gif)"
      ],
      "metadata": {
        "colab": {
          "base_uri": "https://localhost:8080/",
          "height": 282
        },
        "id": "PxWX721iVv8-",
        "outputId": "0c799f7f-2b5a-4502-f491-96e67a848bd5"
      },
      "execution_count": null,
      "outputs": [
        {
          "output_type": "stream",
          "name": "stdout",
          "text": [
            "Mandelbrot GIF created in 120.439479 sec.\n"
          ]
        },
        {
          "output_type": "display_data",
          "data": {
            "text/plain": [
              "<Figure size 432x288 with 1 Axes>"
            ],
            "image/png": "[encoded data removed]"
          },
          "metadata": {
            "needs_background": "light"
          }
        }
      ]
    },
    {
      "cell_type": "markdown",
      "source": [
        "**Open mandelbrot.gif under the mandelbrot_plots and look at your stunning Mandelbrot Fractal GIF!**"
      ],
      "metadata": {
        "id": "PTj1rBRBhaoE"
      }
    },
    {
      "cell_type": "code",
      "source": [
        "# import shutil\n",
        "# shutil.rmtree(\"/mandelbrot_plots\")\n",
        "# To remove the mandelbrot fractal images and create another GIF, uncomment and run the code above"
      ],
      "metadata": {
        "id": "i6ErxNlehkvR"
      },
      "execution_count": null,
      "outputs": []
    }
  ],
  "metadata": {
    "colab": {
      "provenance": []
    },
    "gpuClass": "standard",
    "kernelspec": {
      "display_name": "Python 3",
      "name": "python3"
    },
    "language_info": {
      "name": "python"
    },
    "accelerator": "GPU"
  },
  "nbformat": 4,
  "nbformat_minor": 0
}
