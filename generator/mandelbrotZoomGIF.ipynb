{
  "cells": [
    {
      "cell_type": "markdown",
      "metadata": {
        "id": "view-in-github",
        "colab_type": "text"
      },
      "source": [
        "<a href=\"https://colab.research.google.com/github/kumarrah2002/Fractal_Generator_GPU/blob/main/generator/mandelbrotZoomGIF.ipynb\" target=\"_parent\"><img src=\"https://colab.research.google.com/assets/colab-badge.svg\" alt=\"Open In Colab\"/></a>"
      ]
    },
    {
      "cell_type": "markdown",
      "source": [
        "\n",
        "\n",
        "## **Import Dependencies**"
      ],
      "metadata": {
        "id": "AXg4RXqsh7KD"
      }
    },
    {
      "cell_type": "code",
      "execution_count": 206,
      "metadata": {
        "id": "f5nqTy5mpa_h"
      },
      "outputs": [],
      "source": [
        "from matplotlib import pyplot as plt\n",
        "import numpy as np\n",
        "from timeit import default_timer as timer\n",
        "import os\n",
        "import imageio\n",
        "from numba import njit\n",
        "from functools import partial"
      ]
    },
    {
      "cell_type": "markdown",
      "source": [
        "\n",
        "\n",
        "## **Now, we will be expanding on the code from mandelbrotGIF.ipynb to be able to zoom in extensively into a Mandelbrot Fractal**"
      ],
      "metadata": {
        "id": "z7hebgOLeoI7"
      }
    },
    {
      "cell_type": "code",
      "source": [
        "\n",
        "class mandelbrot:\n",
        "  def __init__(self, cmap):\n",
        "    self.cmap = cmap\n",
        "\n",
        "  '''\n",
        "  Args:\n",
        "    cmap (str): color map of Mandelbrot Fractal\n",
        "  '''\n",
        "\n",
        "  def f(self, z, c):\n",
        "    return z**(self.k) + c\n",
        "\n",
        "  '''\n",
        "  ------------------------------------------------------------------------------\n",
        "  Args:\n",
        "    z (float): critical point in complex plane\n",
        "    c (float): complex number to change z\n",
        "  ------------------------------------------------------------------------------\n",
        "  '''\n",
        "\n",
        "  def diverge(self, c, z = 0, iterations = 20):\n",
        "    c = complex(*c)\n",
        "    z = 0\n",
        "    for i in range(iterations):\n",
        "      if(z.real*z.real + z.imag*z.imag) >= 4:\n",
        "        return i\n",
        "      z = self.f(z, c)\n",
        "    return 0\n",
        "\n",
        "  '''\n",
        "  ------------------------------------------------------------------------------\n",
        "  Args:\n",
        "    z (float): critical point in complex plane\n",
        "    c (float): complex number\n",
        "    iterations (int): Number of repetitions \n",
        "  ------------------------------------------------------------------------------\n",
        "  '''\n",
        "\n",
        "  def plot(self, k, complex_plane, div):\n",
        "    self.k = k\n",
        "    xmin, xmax, ymin, ymax = complex_plane\n",
        "    resolution = 200 #200 points between minimum and maximum\n",
        "\n",
        "    xx, yy = np.meshgrid(np.linspace(xmin, xmax, resolution), \n",
        "                        np.linspace(ymin, ymax, resolution))\n",
        "    points = np.c_[xx.ravel(), yy.ravel()]\n",
        "    mandelbrot_points = [div(c) for c in points]\n",
        "    mandelbrot_points = np.array(mandelbrot_points).reshape(200, 200)\n",
        "    plt.contourf(mandelbrot_points, cmap = self.cmap)\n",
        "\n",
        "  '''\n",
        "  ------------------------------------------------------------------------------\n",
        "  Args:\n",
        "    k (float): power of z --> used to create varying fractal shapes\n",
        "    complex_plane (tuple): starting and ending values on the complex plane\n",
        "      format: (xmin, xmax, ymin, ymax)\n",
        "    div (functools.partial): creates new function that passes a new value for iterations variable  \n",
        "  ------------------------------------------------------------------------------\n",
        "  '''\n",
        "\n",
        "  def gif(self, lower, upper,  iterations):\n",
        "    if (lower >= 2):\n",
        "      os.mkdir(\"mandelbrot_plots\")\n",
        "      series = np.linspace(lower, upper, iterations)\n",
        "      for n in series:\n",
        "        self.plot(n)\n",
        "        plt.savefig(f\"mandelbrot_plots/mandelbrot_{n}.jpg\")\n",
        "    \n",
        "      gif = [] \n",
        "      files = [f\"mandelbrot_plots/mandelbrot_{n}.jpg\" for n in series]\n",
        "      for image in files:\n",
        "        gif.append(imageio.imread(image))\n",
        "      imageio.mimsave('mandelbrot.gif', gif)\n",
        "    \n",
        "    else:\n",
        "      print(\"Input a higher lower boundary\")\n",
        "\n",
        "  '''\n",
        "  ------------------------------------------------------------------------------\n",
        "  Args:\n",
        "    lower (float): lowest value of k for the equation z**k + c\n",
        "    upper (float): highest value of k for the equation z**k + c\n",
        "    iterations (int): Number of repetitions \n",
        "  ------------------------------------------------------------------------------\n",
        "  '''\n",
        "\n",
        "  def zoom(self, complex_plane, focal_point, factor = 2):\n",
        "    x, y = focal_point\n",
        "    factor = factor*2\n",
        "    x_min, x_max, y_min, y_max = complex_plane\n",
        "    width = (x_max - x_min) / factor\n",
        "    height = (y_max - y_min) / factor\n",
        "\n",
        "    return x-width, x+width, y-height, y+height\n",
        "\n",
        "  '''\n",
        "  ------------------------------------------------------------------------------\n",
        "  Args:\n",
        "    complex_plane (tuple): starting and ending values on the complex plane\n",
        "      format: (xmin, xmax, ymin, ymax)\n",
        "    focal_point (tuple): coordinate of center of focus for zooming into fractal\n",
        "    factor (float): Zoom-in rate  \n",
        "  ------------------------------------------------------------------------------\n",
        "  '''"
      ],
      "metadata": {
        "id": "OOJYeo95Ne4v"
      },
      "execution_count": 183,
      "outputs": []
    },
    {
      "cell_type": "markdown",
      "source": [
        "**You can choose whatever shader you want for the fractal!**\n",
        "\n",
        "\n",
        "All the colormaps can be found using this link: https://matplotlib.org/stable/tutorials/colors/colormaps.html"
      ],
      "metadata": {
        "id": "b3qS9nRZhKqO"
      }
    },
    {
      "cell_type": "code",
      "source": [
        "complex_plane = (-2, 1, -1, 1)\n",
        "plot1 = mandelbrot(cmap = \"hot\")\n",
        "div = partial(plot1.diverge, iterations = 20)\n",
        "\n",
        "start = timer()\n",
        "\n",
        "plot1.plot(2, complex_plane, div)\n",
        "\n",
        "end = timer() - start\n",
        "print(\"Mandelbrot GIF created in %f sec.\" % end)"
      ],
      "metadata": {
        "colab": {
          "base_uri": "https://localhost:8080/",
          "height": 282
        },
        "id": "x0ufDCRMRvkm",
        "outputId": "4053d43b-1770-4521-ef1a-ac97c6359551"
      },
      "execution_count": 184,
      "outputs": [
        {
          "output_type": "stream",
          "name": "stdout",
          "text": [
            "Mandelbrot GIF created in 0.323386 sec.\n"
          ]
        },
        {
          "output_type": "display_data",
          "data": {
            "text/plain": [
              "<Figure size 432x288 with 1 Axes>"
            ],
            "image/png": "[encoded data removed]"
          },
          "metadata": {
            "needs_background": "light"
          }
        }
      ]
    },
    {
      "cell_type": "markdown",
      "source": [
        "**Open mandelbrot.gif under the mandelbrot_plots and look at your stunning Mandelbrot Fractal GIF!**"
      ],
      "metadata": {
        "id": "PTj1rBRBhaoE"
      }
    },
    {
      "cell_type": "code",
      "source": [
        "point = (-1.24254013716898265806, 0.413238151606368092027)\n",
        "complex_plane = (-2, 1, -1, 1)\n",
        "k = 2\n",
        "div = partial(plot1.diverge, iterations = 150)\n",
        "os.mkdir(\"mandelbrot_zoom\")\n",
        "\n",
        "zoom = 120\n",
        "\n",
        "start = timer()\n",
        "\n",
        "for i in range(zoom):\n",
        "  complex_plane = plot1.zoom(complex_plane, point, factor = 1.25)\n",
        "  plot1.plot(k, complex_plane, div)\n",
        "  plt.savefig(f\"mandelbrot_zoom/mandelbrot_{i}.jpg\")\n",
        "\n",
        "end = timer() - start\n",
        "\n",
        "gif = [] \n",
        "files = [f\"mandelbrot_zoom/mandelbrot_{i}.jpg\" for i in range(zoom)]\n",
        "for image in files:\n",
        "  gif.append(imageio.imread(image))\n",
        "imageio.mimsave('mandelbrot_zoom.gif', gif)\n",
        "\n",
        "print(\"Mandelbrot Zoom GIF created in %f sec.\" % end)\n"
      ],
      "metadata": {
        "colab": {
          "base_uri": "https://localhost:8080/",
          "height": 282
        },
        "id": "TJKD1omVYcz3",
        "outputId": "9780c602-f815-47f7-855b-92444f9b8974"
      },
      "execution_count": 203,
      "outputs": [
        {
          "output_type": "stream",
          "name": "stdout",
          "text": [
            "Mandelbrot Zoom GIF created in 153.967313 sec.\n"
          ]
        },
        {
          "output_type": "display_data",
          "data": {
            "text/plain": [
              "<Figure size 432x288 with 1 Axes>"
            ],
            "image/png": "[encoded data removed]"
          },
          "metadata": {
            "needs_background": "light"
          }
        }
      ]
    },
    {
      "cell_type": "code",
      "source": [
        "import shutil\n",
        "\n",
        "if (os.path.exists(\"/content/mandelbrot_plots\") == True):\n",
        "  shutil.rmtree(\"/content/mandelbrot_plots\")\n",
        "elif (os.path.exists(\"/content/mandelbrot_zoom\") == True):\n",
        "  shutil.rmtree(\"/content/mandelbrot_zoom\")\n",
        "elif (os.path.exists(\"/content/mandelbrot_zoom.gif\") == True):\n",
        "  os.remove(\"mandelbrot_zoom.gif\")\n",
        "elif (os.path.exists(\"/content/mandelbrot.gif\") == True):\n",
        "  os.remove(\"mandelbrot.gif\")\n",
        "\n",
        "\n",
        "# To remove the mandelbrot fractal images and create another GIF, uncomment and run the code above"
      ],
      "metadata": {
        "id": "i6ErxNlehkvR"
      },
      "execution_count": 202,
      "outputs": []
    }
  ],
  "metadata": {
    "colab": {
      "provenance": [],
      "authorship_tag": "ABX9TyNmhGWf9smvenQRkTT4GOtC",
      "include_colab_link": true
    },
    "gpuClass": "standard",
    "kernelspec": {
      "display_name": "Python 3",
      "name": "python3"
    },
    "language_info": {
      "name": "python"
    }
  },
  "nbformat": 4,
  "nbformat_minor": 0
}